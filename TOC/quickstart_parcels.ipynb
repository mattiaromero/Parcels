{
 "cells": [
  {
   "cell_type": "code",
   "execution_count": 150,
   "metadata": {},
   "outputs": [],
   "source": [
    "import math\n",
    "from datetime import timedelta\n",
    "from operator import attrgetter\n",
    "\n",
    "import glob \n",
    "import matplotlib.pyplot as plt\n",
    "import numpy as np\n",
    "import pandas as pd\n",
    "import trajan as ta\n",
    "import xarray as xr\n",
    "from IPython.display import HTML\n",
    "from matplotlib.animation import FuncAnimation\n",
    "\n",
    "import parcels"
   ]
  },
  {
   "cell_type": "markdown",
   "metadata": {},
   "source": [
    "### Quickstart to WP 1C"
   ]
  },
  {
   "cell_type": "markdown",
   "metadata": {},
   "source": [
    "#### Load drifter tracks"
   ]
  },
  {
   "cell_type": "code",
   "execution_count": 157,
   "metadata": {},
   "outputs": [
    {
     "ename": "KeyError",
     "evalue": "'time'",
     "output_type": "error",
     "traceback": [
      "\u001b[1;31m---------------------------------------------------------------------------\u001b[0m",
      "\u001b[1;31mKeyError\u001b[0m                                  Traceback (most recent call last)",
      "Cell \u001b[1;32mIn[157], line 14\u001b[0m\n\u001b[0;32m     11\u001b[0m     drifter_df \u001b[38;5;241m=\u001b[39m pd\u001b[38;5;241m.\u001b[39mconcat([drifter_df, df], ignore_index\u001b[38;5;241m=\u001b[39m\u001b[38;5;28;01mTrue\u001b[39;00m)  \u001b[38;5;66;03m# Concatenate to the main DataFrame\u001b[39;00m\n\u001b[0;32m     13\u001b[0m \u001b[38;5;66;03m# Ensure the 'time' column is in datetime format\u001b[39;00m\n\u001b[1;32m---> 14\u001b[0m drifter_df[\u001b[38;5;124m\"\u001b[39m\u001b[38;5;124mtime\u001b[39m\u001b[38;5;124m\"\u001b[39m] \u001b[38;5;241m=\u001b[39m pd\u001b[38;5;241m.\u001b[39mto_datetime(\u001b[43mdrifter_df\u001b[49m\u001b[43m[\u001b[49m\u001b[38;5;124;43m\"\u001b[39;49m\u001b[38;5;124;43mtime\u001b[39;49m\u001b[38;5;124;43m\"\u001b[39;49m\u001b[43m]\u001b[49m)\n\u001b[0;32m     15\u001b[0m drifter_df \u001b[38;5;241m=\u001b[39m drifter_df[drifter_df[\u001b[38;5;124m\"\u001b[39m\u001b[38;5;124mdeployed\u001b[39m\u001b[38;5;124m\"\u001b[39m] \u001b[38;5;241m!=\u001b[39m \u001b[38;5;28;01mFalse\u001b[39;00m]\n\u001b[0;32m     16\u001b[0m drifter_df\u001b[38;5;241m.\u001b[39mdrop(columns\u001b[38;5;241m=\u001b[39m\u001b[38;5;124m\"\u001b[39m\u001b[38;5;124mdeployed\u001b[39m\u001b[38;5;124m\"\u001b[39m, inplace\u001b[38;5;241m=\u001b[39m\u001b[38;5;28;01mTrue\u001b[39;00m)\n",
      "File \u001b[1;32mc:\\Users\\toc2\\anaconda3\\envs\\parcels\\Lib\\site-packages\\pandas\\core\\frame.py:4102\u001b[0m, in \u001b[0;36mDataFrame.__getitem__\u001b[1;34m(self, key)\u001b[0m\n\u001b[0;32m   4100\u001b[0m \u001b[38;5;28;01mif\u001b[39;00m \u001b[38;5;28mself\u001b[39m\u001b[38;5;241m.\u001b[39mcolumns\u001b[38;5;241m.\u001b[39mnlevels \u001b[38;5;241m>\u001b[39m \u001b[38;5;241m1\u001b[39m:\n\u001b[0;32m   4101\u001b[0m     \u001b[38;5;28;01mreturn\u001b[39;00m \u001b[38;5;28mself\u001b[39m\u001b[38;5;241m.\u001b[39m_getitem_multilevel(key)\n\u001b[1;32m-> 4102\u001b[0m indexer \u001b[38;5;241m=\u001b[39m \u001b[38;5;28;43mself\u001b[39;49m\u001b[38;5;241;43m.\u001b[39;49m\u001b[43mcolumns\u001b[49m\u001b[38;5;241;43m.\u001b[39;49m\u001b[43mget_loc\u001b[49m\u001b[43m(\u001b[49m\u001b[43mkey\u001b[49m\u001b[43m)\u001b[49m\n\u001b[0;32m   4103\u001b[0m \u001b[38;5;28;01mif\u001b[39;00m is_integer(indexer):\n\u001b[0;32m   4104\u001b[0m     indexer \u001b[38;5;241m=\u001b[39m [indexer]\n",
      "File \u001b[1;32mc:\\Users\\toc2\\anaconda3\\envs\\parcels\\Lib\\site-packages\\pandas\\core\\indexes\\range.py:417\u001b[0m, in \u001b[0;36mRangeIndex.get_loc\u001b[1;34m(self, key)\u001b[0m\n\u001b[0;32m    415\u001b[0m         \u001b[38;5;28;01mraise\u001b[39;00m \u001b[38;5;167;01mKeyError\u001b[39;00m(key) \u001b[38;5;28;01mfrom\u001b[39;00m\u001b[38;5;250m \u001b[39m\u001b[38;5;21;01merr\u001b[39;00m\n\u001b[0;32m    416\u001b[0m \u001b[38;5;28;01mif\u001b[39;00m \u001b[38;5;28misinstance\u001b[39m(key, Hashable):\n\u001b[1;32m--> 417\u001b[0m     \u001b[38;5;28;01mraise\u001b[39;00m \u001b[38;5;167;01mKeyError\u001b[39;00m(key)\n\u001b[0;32m    418\u001b[0m \u001b[38;5;28mself\u001b[39m\u001b[38;5;241m.\u001b[39m_check_indexing_error(key)\n\u001b[0;32m    419\u001b[0m \u001b[38;5;28;01mraise\u001b[39;00m \u001b[38;5;167;01mKeyError\u001b[39;00m(key)\n",
      "\u001b[1;31mKeyError\u001b[0m: 'time'"
     ]
    }
   ],
   "source": [
    "# Path to the folder containing the drifter CSV files\n",
    "drifter_folder = r\"Y:/PROJECTS/DRIFTERS/data/qc_tdsi_6h\"\n",
    "files = glob.glob(f\"{drifter_folder}/*.csv\")\n",
    "\n",
    "# Initialize an empty DataFrame to store all data\n",
    "drifter_df = pd.DataFrame()\n",
    "\n",
    "# Iterate over all CSV files in the folder\n",
    "for file in files: \n",
    "    df = pd.read_csv(file)  # Read each file into a DataFrame\n",
    "    drifter_df = pd.concat([drifter_df, df], ignore_index=True)  # Concatenate to the main DataFrame\n",
    "\n",
    "# Ensure the 'time' column is in datetime format\n",
    "drifter_df[\"time\"] = pd.to_datetime(drifter_df[\"time\"])\n",
    "drifter_df = drifter_df[drifter_df[\"deployed\"] != False]\n",
    "drifter_df.drop(columns=\"deployed\", inplace=True)"
   ]
  },
  {
   "cell_type": "code",
   "execution_count": 152,
   "metadata": {},
   "outputs": [
    {
     "ename": "AttributeError",
     "evalue": "'DataFrame' object has no attribute 'lon'",
     "output_type": "error",
     "traceback": [
      "\u001b[1;31m---------------------------------------------------------------------------\u001b[0m",
      "\u001b[1;31mAttributeError\u001b[0m                            Traceback (most recent call last)",
      "\u001b[1;32m~\\AppData\\Local\\Temp\\ipykernel_10516\\2712868169.py\u001b[0m in \u001b[0;36m?\u001b[1;34m()\u001b[0m\n\u001b[1;32m----> 1\u001b[1;33m \u001b[0mw\u001b[0m\u001b[1;33m,\u001b[0m \u001b[0me\u001b[0m\u001b[1;33m,\u001b[0m \u001b[0ms\u001b[0m\u001b[1;33m,\u001b[0m \u001b[0mn\u001b[0m \u001b[1;33m=\u001b[0m \u001b[0mdrifter_df\u001b[0m\u001b[1;33m.\u001b[0m\u001b[0mlon\u001b[0m\u001b[1;33m.\u001b[0m\u001b[0mmin\u001b[0m\u001b[1;33m(\u001b[0m\u001b[1;33m)\u001b[0m\u001b[1;33m,\u001b[0m \u001b[0mdrifter_df\u001b[0m\u001b[1;33m.\u001b[0m\u001b[0mlon\u001b[0m\u001b[1;33m.\u001b[0m\u001b[0mmax\u001b[0m\u001b[1;33m(\u001b[0m\u001b[1;33m)\u001b[0m\u001b[1;33m,\u001b[0m \u001b[0mdrifter_df\u001b[0m\u001b[1;33m.\u001b[0m\u001b[0mlat\u001b[0m\u001b[1;33m.\u001b[0m\u001b[0mmin\u001b[0m\u001b[1;33m(\u001b[0m\u001b[1;33m)\u001b[0m\u001b[1;33m,\u001b[0m \u001b[0mdrifter_df\u001b[0m\u001b[1;33m.\u001b[0m\u001b[0mlat\u001b[0m\u001b[1;33m.\u001b[0m\u001b[0mmax\u001b[0m\u001b[1;33m(\u001b[0m\u001b[1;33m)\u001b[0m\u001b[1;33m\u001b[0m\u001b[1;33m\u001b[0m\u001b[0m\n\u001b[0m\u001b[0;32m      2\u001b[0m \u001b[0mw\u001b[0m\u001b[1;33m,\u001b[0m \u001b[0me\u001b[0m\u001b[1;33m,\u001b[0m \u001b[0ms\u001b[0m\u001b[1;33m,\u001b[0m \u001b[0mn\u001b[0m \u001b[1;33m=\u001b[0m \u001b[0mint\u001b[0m\u001b[1;33m(\u001b[0m\u001b[0mw\u001b[0m\u001b[1;33m)\u001b[0m\u001b[1;33m,\u001b[0m \u001b[0mint\u001b[0m\u001b[1;33m(\u001b[0m\u001b[0me\u001b[0m\u001b[1;33m)\u001b[0m\u001b[1;33m,\u001b[0m \u001b[0mint\u001b[0m\u001b[1;33m(\u001b[0m\u001b[0ms\u001b[0m\u001b[1;33m)\u001b[0m\u001b[1;33m,\u001b[0m \u001b[0mint\u001b[0m\u001b[1;33m(\u001b[0m\u001b[0mn\u001b[0m\u001b[1;33m)\u001b[0m\u001b[1;33m\u001b[0m\u001b[1;33m\u001b[0m\u001b[0m\n\u001b[0;32m      3\u001b[0m \u001b[0mprint\u001b[0m\u001b[1;33m(\u001b[0m\u001b[1;34m\"W, E, S, N:\"\u001b[0m\u001b[1;33m,\u001b[0m \u001b[1;33m[\u001b[0m\u001b[0mw\u001b[0m\u001b[1;33m,\u001b[0m \u001b[0me\u001b[0m\u001b[1;33m,\u001b[0m \u001b[0ms\u001b[0m\u001b[1;33m,\u001b[0m \u001b[0mn\u001b[0m\u001b[1;33m]\u001b[0m\u001b[1;33m)\u001b[0m\u001b[1;33m\u001b[0m\u001b[1;33m\u001b[0m\u001b[0m\n",
      "\u001b[1;32mc:\\Users\\toc2\\anaconda3\\envs\\parcels\\Lib\\site-packages\\pandas\\core\\generic.py\u001b[0m in \u001b[0;36m?\u001b[1;34m(self, name)\u001b[0m\n\u001b[0;32m   6295\u001b[0m             \u001b[1;32mand\u001b[0m \u001b[0mname\u001b[0m \u001b[1;32mnot\u001b[0m \u001b[1;32min\u001b[0m \u001b[0mself\u001b[0m\u001b[1;33m.\u001b[0m\u001b[0m_accessors\u001b[0m\u001b[1;33m\u001b[0m\u001b[1;33m\u001b[0m\u001b[0m\n\u001b[0;32m   6296\u001b[0m             \u001b[1;32mand\u001b[0m \u001b[0mself\u001b[0m\u001b[1;33m.\u001b[0m\u001b[0m_info_axis\u001b[0m\u001b[1;33m.\u001b[0m\u001b[0m_can_hold_identifiers_and_holds_name\u001b[0m\u001b[1;33m(\u001b[0m\u001b[0mname\u001b[0m\u001b[1;33m)\u001b[0m\u001b[1;33m\u001b[0m\u001b[1;33m\u001b[0m\u001b[0m\n\u001b[0;32m   6297\u001b[0m         \u001b[1;33m)\u001b[0m\u001b[1;33m:\u001b[0m\u001b[1;33m\u001b[0m\u001b[1;33m\u001b[0m\u001b[0m\n\u001b[0;32m   6298\u001b[0m             \u001b[1;32mreturn\u001b[0m \u001b[0mself\u001b[0m\u001b[1;33m[\u001b[0m\u001b[0mname\u001b[0m\u001b[1;33m]\u001b[0m\u001b[1;33m\u001b[0m\u001b[1;33m\u001b[0m\u001b[0m\n\u001b[1;32m-> 6299\u001b[1;33m         \u001b[1;32mreturn\u001b[0m \u001b[0mobject\u001b[0m\u001b[1;33m.\u001b[0m\u001b[0m__getattribute__\u001b[0m\u001b[1;33m(\u001b[0m\u001b[0mself\u001b[0m\u001b[1;33m,\u001b[0m \u001b[0mname\u001b[0m\u001b[1;33m)\u001b[0m\u001b[1;33m\u001b[0m\u001b[1;33m\u001b[0m\u001b[0m\n\u001b[0m",
      "\u001b[1;31mAttributeError\u001b[0m: 'DataFrame' object has no attribute 'lon'"
     ]
    }
   ],
   "source": [
    "w, e, s, n = drifter_df.lon.min(), drifter_df.lon.max(), drifter_df.lat.min(), drifter_df.lat.max()\n",
    "w, e, s, n = int(w), int(e), int(s), int(n)\n",
    "print(\"W, E, S, N:\", [w, e, s, n])"
   ]
  },
  {
   "cell_type": "code",
   "execution_count": 4,
   "metadata": {},
   "outputs": [
    {
     "name": "stdout",
     "output_type": "stream",
     "text": [
      "Time range:  2020-01-01 00:00:00+00:00 2025-01-21 01:43:55+00:00\n"
     ]
    }
   ],
   "source": [
    "tstart, tend = drifter_df.time.min(), drifter_df.time.max()\n",
    "print(\"Time range: \", tstart, tend)"
   ]
  },
  {
   "cell_type": "markdown",
   "metadata": {},
   "source": [
    "#### Load OGCMs\n",
    "\n",
    "Amphitrite training period: 2018-2021 and 08/2023-02/2024 "
   ]
  },
  {
   "cell_type": "markdown",
   "metadata": {},
   "source": [
    "#### Resources <br>\n",
    "Grid:  <br>\n",
    "https://cfconventions.org/Data/cf-conventions/cf-conventions-1.7/build/ch05s06.html <br> \n",
    "https://www.oc.nps.edu/nom/modeling/grids.html <br> \n",
    "<br> \n",
    "Conventions: <br> \n",
    "http://cfconventions.org/cf-conventions/v1.6.0/cf-conventions.html"
   ]
  },
  {
   "cell_type": "code",
   "execution_count": 160,
   "metadata": {},
   "outputs": [],
   "source": [
    "dataset_folder = \"F:/ADVECTOR/metocean/\" \n",
    "\n",
    "# odels = {\"globcurrent\" : \"globcurrent/uo_\", "
   ]
  },
  {
   "cell_type": "markdown",
   "metadata": {},
   "source": [
    "#### GLOBCURRENT"
   ]
  },
  {
   "cell_type": "code",
   "execution_count": 161,
   "metadata": {},
   "outputs": [
    {
     "name": "stdout",
     "output_type": "stream",
     "text": [
      "grid_mapping : crs\n",
      "long_name : Absolute geostrophic velocity + depth Ekman velocity: zonal component\n",
      "standard_name : eastward_sea_water_velocity\n",
      "units : m/s\n",
      "Conventions : CF-1.6\n",
      "contact : servicedesk.cmems@mercator-ocean.eu\n",
      "creation_date : 2023-07-26 08:47:37\n",
      "geospatial_lat_units : degrees_north\n",
      "geospatial_lon_units : degrees_east\n",
      "geospatial_vertical_max : 0.0\n",
      "geospatial_vertical_min : -15.0\n",
      "institution : CLS\n",
      "lat_max : 89.875\n",
      "lat_min : -89.875\n",
      "lat_res : 0.25\n",
      "lon_max : 179.875\n",
      "lon_min : -179.875\n",
      "lon_res : 0.25\n",
      "product_version : 3.0\n",
      "references : Mulet, S., Rio, M.-H., Etienne, H., Artana, C., Cancet, M., Dibarboure, G., Feng, H., Husson, R., Picot, N., Provost, C., and Strub, P. T.: The new CNES-CLS18 global mean dynamic topography, Ocean Sci., 17, 789-808, \n",
      "title : Daily mean total surface and 15m velocities\n",
      "copernicusmarine_version : 1.3.3\n"
     ]
    }
   ],
   "source": [
    "globcurrent = xr.open_dataset(glob.glob(f\"{dataset_folder}/globcurrent/uo_*.nc\")[0])\n",
    "\n",
    "for attr in globcurrent.uo.attrs:\n",
    "    print(attr, \":\", globcurrent.uo.attrs[attr])\n",
    "\n",
    "for attr in globcurrent.attrs:\n",
    "    print(attr, \":\", globcurrent.attrs[attr])"
   ]
  },
  {
   "cell_type": "code",
   "execution_count": 162,
   "metadata": {},
   "outputs": [],
   "source": [
    "filenames = {\n",
    "    \"U\": f\"{dataset_folder}/globcurrent/uo_*.nc\",\n",
    "    \"V\": f\"{dataset_folder}/globcurrent/vo_*.nc\"\n",
    "}\n",
    "variables = {\n",
    "    \"U\": \"eastward_eulerian_current_velocity\",\n",
    "    \"V\": \"northward_eulerian_current_velocity\",\n",
    "}\n",
    "dimensions = {\"lat\": \"latitude\", \"lon\": \"longitude\", \"time\": \"time\"}\n",
    "\n",
    "indices = {'lon': range(0,4*60), 'lat': range(4*105,4*135)}"
   ]
  },
  {
   "cell_type": "code",
   "execution_count": 163,
   "metadata": {},
   "outputs": [],
   "source": [
    "fieldset = parcels.FieldSet.from_netcdf(filenames, variables, dimensions, indices)"
   ]
  },
  {
   "cell_type": "code",
   "execution_count": 166,
   "metadata": {},
   "outputs": [],
   "source": [
    "# fieldset"
   ]
  },
  {
   "cell_type": "code",
   "execution_count": 167,
   "metadata": {},
   "outputs": [
    {
     "name": "stdout",
     "output_type": "stream",
     "text": [
      "Dataset size: 892800\n"
     ]
    }
   ],
   "source": [
    "print(\"Dataset size:\", len(fieldset.U.grid.lon)*len(fieldset.U.grid.lat)*len(fieldset.U.grid.time))"
   ]
  },
  {
   "cell_type": "markdown",
   "metadata": {},
   "source": [
    "### NEMO"
   ]
  },
  {
   "cell_type": "code",
   "execution_count": 168,
   "metadata": {},
   "outputs": [
    {
     "name": "stdout",
     "output_type": "stream",
     "text": [
      "long_name : Eastward Eulerian velocity (Navier-Stokes current)\n",
      "standard_name : eastward_sea_water_velocity\n",
      "units : m s-1\n",
      "_ChunkSizes : [   1    1 1021 2160]\n",
      "producer : CMEMS - Global Monitoring and Forecasting Centre\n",
      "title : hourly mean merged surface currents from oceanic circulation, tides and waves\n",
      "area : GLOBAL\n",
      "quality_information_document : http://marine.copernicus.eu/documents/QUID/CMEMS-GLO-QUID-001-024.pdf\n",
      "Conventions : CF-1.6\n",
      "credit : E.U. Copernicus Marine Service Information (CMEMS)\n",
      "contact : servicedesk.cmems@mercator-ocean.eu\n",
      "references : http://marine.copernicus.eu\n",
      "source : MERCATOR GLO12, mfwamglo, FES2014\n",
      "licence : http://marine.copernicus.eu/services-portfolio/service-commitments-and-licence/\n",
      "product_user_manual : http://marine.copernicus.eu/documents/PUM/CMEMS-GLO-PUM-001-024.pdf\n",
      "institution : MERCATOR OCEAN\n",
      "_CoordSysBuilder : ucar.nc2.dataset.conv.CF1Convention\n",
      "comment : \n",
      "history : Data extracted from dataset http://localhost:8080/thredds/dodsC/cmems_mod_glo_phy_anfc_merged-uv_PT1H-i\n"
     ]
    }
   ],
   "source": [
    "nemo = xr.open_dataset(glob.glob(f\"{dataset_folder}/nemo/nemo_hourly_operational_u_*.nc\")[0])\n",
    "\n",
    "for attr in nemo.uo.attrs:\n",
    "    print(attr, \":\", nemo.uo.attrs[attr])\n",
    "for attr in nemo.attrs:\n",
    "    print(attr, \":\", nemo.attrs[attr])"
   ]
  },
  {
   "cell_type": "code",
   "execution_count": 169,
   "metadata": {},
   "outputs": [],
   "source": [
    "filenames = {\n",
    "    \"U\": f\"{dataset_folder}/nemo/nemo_hourly_operational_u_*.nc\",\n",
    "    \"V\": f\"{dataset_folder}/nemo/nemo_hourly_operational_v_*.nc\",\n",
    "}\n",
    "\n",
    "variables = {\"U\": \"uo\", \"V\": \"vo\"}\n",
    "\n",
    "dimensions = {\"time\": \"time\", \"lon\": \"longitude\", \"lat\": \"latitude\"}\n",
    "\n",
    "indices = {'lon': range(0,12*60), 'lat': range(12*95,12*125)}"
   ]
  },
  {
   "cell_type": "code",
   "execution_count": 170,
   "metadata": {},
   "outputs": [],
   "source": [
    "fieldset = parcels.FieldSet.from_netcdf(\n",
    "    filenames, variables, dimensions, indices\n",
    ") "
   ]
  },
  {
   "cell_type": "code",
   "execution_count": 172,
   "metadata": {},
   "outputs": [
    {
     "name": "stdout",
     "output_type": "stream",
     "text": [
      "Dataset size: 192844800\n"
     ]
    }
   ],
   "source": [
    "print(\"Dataset size:\", len(fieldset.U.grid.lon)*len(fieldset.U.grid.lat)*len(fieldset.U.grid.time))"
   ]
  },
  {
   "cell_type": "markdown",
   "metadata": {},
   "source": [
    "### HYCOM"
   ]
  },
  {
   "cell_type": "code",
   "execution_count": 104,
   "metadata": {},
   "outputs": [],
   "source": [
    "def WrapLongitude(particle, fieldset, time):\n",
    "    \"\"\" Ensure longitude remains within the -180 to 180 range \"\"\"\n",
    "    if particle.lon > 180:\n",
    "        particle.lon -= 360\n",
    "    elif particle.lon < -180:\n",
    "        particle.lon += 360"
   ]
  },
  {
   "cell_type": "code",
   "execution_count": 174,
   "metadata": {},
   "outputs": [
    {
     "data": {
      "text/plain": [
       "'\\nfor file in glob.glob(f\"{dataset_folder}/hycom/hycom_operational_*.nc\"):\\n    ds = xr.open_dataset(file)\\n    ds[\"lon\"] = ((ds[\"lon\"] + 180) % 360) - 180\\n    ds.attrs[\"geospatial_lon_min\"] = -180.0  # Convert from 0.0\\n    ds.attrs[\"geospatial_lon_max\"] = 179.92  # Convert from 359.92\\n    ds = ds.sortby(\"lon\")\\n    ds.to_netcdf(file)\\n'"
      ]
     },
     "execution_count": 174,
     "metadata": {},
     "output_type": "execute_result"
    }
   ],
   "source": [
    "\"\"\"\n",
    "for file in glob.glob(f\"{dataset_folder}/hycom/hycom_operational_*.nc\"):\n",
    "    ds = xr.open_dataset(file)\n",
    "    ds[\"lon\"] = ((ds[\"lon\"] + 180) % 360) - 180\n",
    "    ds.attrs[\"geospatial_lon_min\"] = -180.0  # Convert from 0.0\n",
    "    ds.attrs[\"geospatial_lon_max\"] = 179.92  # Convert from 359.92\n",
    "    ds = ds.sortby(\"lon\")\n",
    "    ds.to_netcdf(file)\n",
    "\"\"\""
   ]
  },
  {
   "cell_type": "code",
   "execution_count": 175,
   "metadata": {},
   "outputs": [
    {
     "name": "stdout",
     "output_type": "stream",
     "text": [
      "_CoordinateAxes : time depth lat lon \n",
      "long_name : Eastward Water Velocity\n",
      "standard_name : eastward_sea_water_velocity\n",
      "units : m/s\n",
      "NAVO_code : 17\n",
      "classification_level : UNCLASSIFIED\n",
      "distribution_statement : Approved for public release. Distribution unlimited.\n",
      "downgrade_date : not applicable\n",
      "classification_authority : not applicable\n",
      "institution : Fleet Numerical Meteorology and Oceanography Center\n",
      "source : HYCOM archive file\n",
      "history : archv2ncdf2d\n",
      "comment : p-grid\n",
      "field_type : instantaneous\n",
      "Conventions : CF-1.6 NAVO_netcdf_v1.1\n",
      "History : Translated to CF-1.0 Conventions by Netcdf-Java CDM (CFGridWriter2)\n",
      "Original Dataset = GLBy0.08/expt_93.0; Translation Date = 2022-01-11T22:38:10.495Z\n",
      "geospatial_lat_min : -80.0\n",
      "geospatial_lat_max : 80.0\n",
      "geospatial_lon_min : 0.0\n",
      "geospatial_lon_max : 359.9200439453125\n"
     ]
    }
   ],
   "source": [
    "hycom = xr.open_dataset(glob.glob(f\"{dataset_folder}/hycom/hycom_operational_*.nc\")[0])\n",
    "\n",
    "for attr in hycom.water_u.attrs:\n",
    "    print(attr, \":\", hycom.water_u.attrs[attr])\n",
    "for attr in hycom.attrs:\n",
    "    print(attr, \":\", hycom.attrs[attr])"
   ]
  },
  {
   "cell_type": "code",
   "execution_count": 176,
   "metadata": {},
   "outputs": [],
   "source": [
    "filenames = f\"{dataset_folder}/hycom/hycom_operational_*.nc\"\n",
    "\n",
    "variables = {\"U\": \"water_u\", \"V\": \"water_v\"}\n",
    "\n",
    "dimensions = {\"time\": \"time\", \"lon\": \"lon\", \"lat\": \"lat\"}\n",
    "\n",
    "indices = {'lon': range(int(180*12.5), int(240*12.5)), 'lat': range(int(25*95),int(25*125))}"
   ]
  },
  {
   "cell_type": "code",
   "execution_count": 177,
   "metadata": {},
   "outputs": [],
   "source": [
    "fieldset = parcels.FieldSet.from_netcdf(\n",
    "    filenames, variables, dimensions, indices\n",
    ") "
   ]
  },
  {
   "cell_type": "code",
   "execution_count": 179,
   "metadata": {},
   "outputs": [],
   "source": [
    "# fieldset"
   ]
  },
  {
   "cell_type": "code",
   "execution_count": 180,
   "metadata": {},
   "outputs": [
    {
     "name": "stdout",
     "output_type": "stream",
     "text": [
      "Dataset size: 69750000\n"
     ]
    }
   ],
   "source": [
    "print(\"Dataset size:\", len(fieldset.U.grid.lon)*len(fieldset.U.grid.lat)*len(fieldset.U.grid.time))"
   ]
  },
  {
   "cell_type": "code",
   "execution_count": 182,
   "metadata": {},
   "outputs": [],
   "source": [
    "# pset.execute(parcels.AdvectionRK4 + WrapLongitude) "
   ]
  },
  {
   "cell_type": "markdown",
   "metadata": {},
   "source": [
    "### ROMS"
   ]
  },
  {
   "cell_type": "code",
   "execution_count": 184,
   "metadata": {},
   "outputs": [],
   "source": [
    "roms = xr.open_dataset(glob.glob(f\"{dataset_folder}/roms/test134cars_npo0.08_07e_*.nc\")[0])"
   ]
  },
  {
   "cell_type": "code",
   "execution_count": 185,
   "metadata": {},
   "outputs": [],
   "source": [
    "# roms = xr.open_dataset(glob.glob(f\"{dataset_folder}/roms/hycom_20220101.nc\")[0])\n",
    "# roms.isel(time=0, depth=0).u.plot(vmin=-1)\n",
    "# roms = xr.open_dataset(glob.glob(f\"{dataset_folder}/roms/nemo_20220101.nc\")[0])\n",
    "# roms.isel(time=0, depth=0).u.plot(vmin=-1)"
   ]
  },
  {
   "cell_type": "code",
   "execution_count": 186,
   "metadata": {},
   "outputs": [
    {
     "name": "stdout",
     "output_type": "stream",
     "text": [
      "long_name : time-averaged u-momentum component\n",
      "units : meter second-1\n",
      "time : ocean_time\n",
      "grid : grid\n",
      "location : edge1\n",
      "field : u-velocity, scalar, series\n",
      "CDI : Climate Data Interface version 2.4.0 (https://mpimet.mpg.de/cdi)\n",
      "Conventions : CF-1.4, SGRID-0.3\n",
      "file : /home/ivan/roms/cases/toc/npo0.08+enoi/expts/async_1d_oper/d-temporary/roms_out/roms_avg.nc\n",
      "format : netCDF-3 64bit offset file\n",
      "type : ROMS/TOMS nonlinear model averages file\n",
      "title : NorthEast Pacific 1/12.5 degreee 166W-118W - 16N-46N (601x376x30)\n",
      "var_info : /home/ivan/roms/trunk/ROMS/External/varinfo.dat\n",
      "rst_file : /home/ivan/roms/cases/toc/npo0.08+enoi/expts/async_1d_oper/d-temporary/roms_out/roms_rst.nc\n",
      "avg_file : /home/ivan/roms/cases/toc/npo0.08+enoi/expts/async_1d_oper/d-temporary/roms_out/roms_avg.nc\n",
      "grd_file : /home/ivan/roms/cases/toc/npo0.08+enoi/expts/async_1d_oper/d-temporary/roms_in/roms_grd.nc\n",
      "ini_file : /home/ivan/roms/cases/toc/npo0.08+enoi/expts/async_1d_oper/d-temporary/roms_in/roms_ini.nc\n",
      "frc_file_01 : /home/ivan/roms/cases/toc/npo0.08+enoi/expts/async_1d_oper/d-temporary/roms_in/roms_frc.nc\n",
      "clm_file_01 : /home/ivan/roms/cases/toc/npo0.08+enoi/expts/async_1d_oper/d-temporary/roms_in/roms_bry.nc\n",
      "script_file : /home/ivan/roms/cases/toc/npo0.08+enoi/expts/async_1d_oper/d-temporary/roms_in/ocean_npo0.08_07e_20200101.in\n",
      "NLM_TADV : \n",
      "ADVECTION:   HORIZONTAL   VERTICAL     \n",
      "temp:        HSIMT        HSIMT        \n",
      "salt:        HSIMT        HSIMT\n",
      "NLM_LBC : \n",
      "EDGE:  WEST   SOUTH  EAST   NORTH  \n",
      "zeta:  Cha    Cha    Cha    Cha    \n",
      "ubar:  Fla    Fla    Fla    Fla    \n",
      "vbar:  Fla    Fla    Fla    Fla    \n",
      "u:     RadNud RadNud RadNud RadNud \n",
      "v:     RadNud RadNud RadNud RadNud \n",
      "temp:  RadNud RadNud RadNud RadNud \n",
      "salt:  RadNud RadNud RadNud RadNud \n",
      "tke:   Gra    Gra    Gra    Gra\n",
      "svn_url : \n",
      "svn_rev : \n",
      "code_dir : /home/ivan/Dropbox/numex/roms/trunk\n",
      "header_dir : /home/ivan/operational/roms/codes\n",
      "header_file : npo1gr_my25.h\n",
      "os : Linux\n",
      "cpu : x86_64\n",
      "compiler_system : gfortran\n",
      "compiler_command : /home/ivan/apps/openmpi-5.0.1/bin/mpif90\n",
      "compiler_flags : -frepack-arrays -O3 -fallow-argument-mismatch -ffast-math -O3 -ffast-math -\n",
      "tiling : 004x005\n",
      "history : Tue Jan 28 15:44:18 2025: cdo intlevelx,0 tmp.nc /home/ivan/storage_at02/roms_outputs/toc/npo0.08+enoi_surface/test134cars/test134cars_npo0.08_07e_20200101.nc\n",
      "Tue Jan 28 15:44:18 2025: ncks -v lon_rho,lat_rho,zeta,temp,salt,u,v /home/ivan/storage_at02/roms_outputs/toc/npo0.08+enoi/d-storage-test134cars/20200101/roms_avg_npo0.08_07e_20200101.nc tmp.nc\n",
      "ROMS/TOMS, Version 3.9, Sunday - August 4, 2024 - 11:30:17 AM\n",
      "ana_file : ROMS/Functionals/ana_btflux.h\n",
      "CPP_options : NPO, ANA_BSFLUX, ANA_BTFLUX, ASSUMED_SHAPE, AVERAGES, !BOUNDARY_A BULK_FLUXES, !COLLECT_ALL..., CURVGRID, DJ_GRADPS, DOUBLE_PRECISION, EMINUSP, KANTHA_CLAYSON, MASKING, MIX_ISO_TS, MIX_GEO_UV, MPI, MY25_MIXING, NONLINEAR, NONLIN_EOS, N2S2_HORAVG, POWER_LAW, PROFILE, K_GSCHEME, RADIATION_2D, REDUCE_ALLREDUCE, !RST_SINGLE, SALINITY, SOLAR_SOURCE, SOLVE3D, TS_DIF4, UV_ADV, UV_COR, UV_U3HADVECTION, UV_C4VADVECTION, UV_QDRAG, UV_VIS2, VAR_RHO_2D\n",
      "NCO : netCDF Operators version 5.2.1 (Homepage = http://nco.sf.net, Code = http://github.com/nco/nco, Citation = 10.1016/j.envsoft.2008.03.004)\n",
      "CDO : Climate Data Operators version 2.4.0 (https://mpimet.mpg.de/cdo)\n"
     ]
    }
   ],
   "source": [
    "roms = xr.open_dataset(glob.glob(f\"{dataset_folder}/roms/test134cars_npo0.08_07e_*.nc\")[0])\n",
    "\n",
    "for attr in roms.u.attrs:\n",
    "    print(attr, \":\", roms.u.attrs[attr])\n",
    "for attr in roms.attrs:\n",
    "    print(attr, \":\", roms.attrs[attr])"
   ]
  },
  {
   "cell_type": "code",
   "execution_count": 188,
   "metadata": {},
   "outputs": [
    {
     "name": "stdout",
     "output_type": "stream",
     "text": [
      "(1, 1, 376, 600)\n",
      "(1, 1, 375, 601)\n",
      "(376, 601)\n"
     ]
    }
   ],
   "source": [
    "print(np.shape(roms.u))\n",
    "print(np.shape(roms.v))\n",
    "print(np.shape(roms.h))"
   ]
  },
  {
   "cell_type": "code",
   "execution_count": 189,
   "metadata": {},
   "outputs": [
    {
     "data": {
      "text/plain": [
       "<matplotlib.legend.Legend at 0x298aa6e34d0>"
      ]
     },
     "execution_count": 189,
     "metadata": {},
     "output_type": "execute_result"
    },
    {
     "data": {
      "image/png": "[encoded data removed]",
      "text/plain": [
       "<Figure size 640x480 with 1 Axes>"
      ]
     },
     "metadata": {},
     "output_type": "display_data"
    }
   ],
   "source": [
    "nind = 3\n",
    "plt.scatter(roms.lon_u.values[:nind, :nind], roms.lat_u.values[:nind, :nind], c =\"r\", label = \"U grid\")\n",
    "plt.scatter(roms.lon_v.values[:nind, :nind], roms.lat_v.values[:nind, :nind], c =\"b\", label = \"V grid\")\n",
    "plt.scatter(roms.lon_rho.values[:nind, :nind], roms.lat_rho.values[:nind, :nind], c =\"k\", label = \"C (rho) grid\")\n",
    "plt.legend(loc=\"upper right\")"
   ]
  },
  {
   "cell_type": "code",
   "execution_count": 203,
   "metadata": {},
   "outputs": [],
   "source": [
    "filenames = f\"{dataset_folder}/roms/test134cars_npo0.08_07e_2022*.nc\"\n",
    "\n",
    "variables = {\"U\": \"u\", \"V\": \"v\"}\n",
    "\n",
    "# Note that all variables need the same dimensions in a C-Grid\n",
    "c_grid_dimensions = {\n",
    "    \"lon\": \"lon_rho\",\n",
    "    \"lat\": \"lat_rho\",\n",
    "    \"time\": \"ocean_time\",\n",
    "}\n",
    "\n",
    "dimensions = {\n",
    "    \"U\": c_grid_dimensions,\n",
    "    \"V\": c_grid_dimensions,\n",
    "}\n",
    "\n",
    "indices = {\"lon\": range(0,600), \"lat\": range(0,375)}"
   ]
  },
  {
   "cell_type": "code",
   "execution_count": 205,
   "metadata": {},
   "outputs": [],
   "source": [
    "fieldset = parcels.FieldSet.from_mitgcm(\n",
    "    filenames, variables, dimensions, indices\n",
    ") "
   ]
  },
  {
   "cell_type": "code",
   "execution_count": 207,
   "metadata": {},
   "outputs": [],
   "source": [
    "# fieldset"
   ]
  },
  {
   "cell_type": "code",
   "execution_count": 206,
   "metadata": {},
   "outputs": [
    {
     "name": "stdout",
     "output_type": "stream",
     "text": [
      "Dataset size: 6975000\n"
     ]
    }
   ],
   "source": [
    "print(\"Dataset size:\", len(fieldset.U.grid.lon)*len(fieldset.U.grid.lat)*len(fieldset.U.grid.time))"
   ]
  },
  {
   "cell_type": "markdown",
   "metadata": {},
   "source": [
    "### Amphitrite"
   ]
  },
  {
   "cell_type": "code",
   "execution_count": 208,
   "metadata": {},
   "outputs": [],
   "source": [
    "folders = glob.glob(f\"{dataset_folder}/amphitrite/*\")\n",
    "\n",
    "amph = xr.open_dataset(glob.glob(f\"{folders[0]}/*.nc\")[0])"
   ]
  },
  {
   "cell_type": "code",
   "execution_count": 209,
   "metadata": {},
   "outputs": [
    {
     "name": "stdout",
     "output_type": "stream",
     "text": [
      "units : meters/second\n",
      "standard_name : surface_eastward_sea_water_velocity\n",
      "long_name : Eastward surface current velocity\n"
     ]
    }
   ],
   "source": [
    "for attr in amph.u.attrs:\n",
    "    print(attr, \":\", amph.u.attrs[attr])\n",
    "for attr in amph.attrs:\n",
    "    print(attr, \":\", amph.attrs[attr])"
   ]
  },
  {
   "cell_type": "code",
   "execution_count": 210,
   "metadata": {},
   "outputs": [],
   "source": [
    "filenames = []\n",
    "\n",
    "for folder in folders: \n",
    "    filenames.append(glob.glob(f\"{folder}/*.nc\")[0])\n",
    "\n",
    "variables = {\"U\": \"u\", \"V\": \"v\"}\n",
    "\n",
    "dimensions = {\"time\": \"time\", \"lon\": \"longitude\", \"lat\": \"latitude\"}"
   ]
  },
  {
   "cell_type": "code",
   "execution_count": 211,
   "metadata": {},
   "outputs": [],
   "source": [
    "fieldset = parcels.FieldSet.from_netcdf(\n",
    "    filenames, variables, dimensions\n",
    ") "
   ]
  },
  {
   "cell_type": "code",
   "execution_count": 212,
   "metadata": {},
   "outputs": [],
   "source": [
    "# fieldset"
   ]
  },
  {
   "cell_type": "code",
   "execution_count": 213,
   "metadata": {},
   "outputs": [
    {
     "name": "stdout",
     "output_type": "stream",
     "text": [
      "Dataset size: 58397521\n"
     ]
    }
   ],
   "source": [
    "print(\"Dataset size:\", len(fieldset.U.grid.lon)*len(fieldset.U.grid.lat)*len(fieldset.U.grid.time))"
   ]
  },
  {
   "cell_type": "markdown",
   "metadata": {},
   "source": [
    "#### Advection"
   ]
  },
  {
   "cell_type": "code",
   "execution_count": null,
   "metadata": {},
   "outputs": [],
   "source": [
    "# parcels.timer.root = parcels.timer.Timer(\"root\")##\n",
    "# parcels.timer.fieldset = parcels.timer.Timer(\"fieldset creation\", parent=parcels.timer.root)\n",
    "# parcels.timer.fieldset.stop()\n",
    "# # parcels.timer.root.stop()\n",
    "# parcels.timer.root.print_tree()"
   ]
  },
  {
   "cell_type": "code",
   "execution_count": 161,
   "metadata": {},
   "outputs": [],
   "source": [
    "# Define a new particleclass with Variable 'age' with initial value 0.\n",
    "AgeParticle = parcels.JITParticle.add_variable(parcels.Variable(\"age\", initial=0))"
   ]
  },
  {
   "cell_type": "code",
   "execution_count": 162,
   "metadata": {},
   "outputs": [],
   "source": [
    "pset = parcels.ParticleSet.from_line(\n",
    "    fieldset=fieldset,\n",
    "    pclass=AgeParticle, # parcels.JITParticle,\n",
    "    size=10,  # releasing particles\n",
    "    start=(-145, 25),  # releasing on a line: the start longitude and latitude\n",
    "    finish=(-148, 25),  # releasing on a line: the end longitude and latitude\n",
    ")"
   ]
  },
  {
   "cell_type": "code",
   "execution_count": null,
   "metadata": {},
   "outputs": [],
   "source": [
    "output_file = pset.ParticleFile(\n",
    "    name=\"NEMOParticles.zarr\", outputdt=timedelta(days=1)\n",
    ")\n",
    "pset.execute(\n",
    "    parcels.AdvectionRK4,\n",
    "    runtime=timedelta(days=7),\n",
    "    dt=timedelta(hours=1),\n",
    "    output_file=output_file,\n",
    ")"
   ]
  },
  {
   "cell_type": "code",
   "execution_count": null,
   "metadata": {},
   "outputs": [],
   "source": [
    "ds = xr.open_zarr(\"NEMOParticles.zarr\")\n",
    "ds.traj.plot(margin=2)\n",
    "plt.show()"
   ]
  },
  {
   "cell_type": "markdown",
   "metadata": {},
   "source": [
    "## Sampling a Field with Particles\n",
    "\n",
    "https://archimer.ifremer.fr/doc/00157/26792/24888.pdf "
   ]
  },
  {
   "cell_type": "code",
   "execution_count": 29,
   "metadata": {},
   "outputs": [],
   "source": [
    "# this flow does not depend on time, we need to set allow_time_extrapolation=True when reading in the fieldset\n",
    "\n",
    "example_dataset_folder = parcels.download_example_dataset(\"Peninsula_data\")\n",
    "fieldset = parcels.FieldSet.from_parcels(\n",
    "    f\"{example_dataset_folder}/peninsula\",\n",
    "    extra_fields={\"P\": \"P\"},\n",
    "    allow_time_extrapolation=True,\n",
    ")"
   ]
  },
  {
   "cell_type": "code",
   "execution_count": 30,
   "metadata": {},
   "outputs": [],
   "source": [
    "SampleParticle = parcels.JITParticle.add_variable(\"p\")"
   ]
  },
  {
   "cell_type": "code",
   "execution_count": null,
   "metadata": {},
   "outputs": [],
   "source": [
    "pset = parcels.ParticleSet.from_line(\n",
    "    fieldset=fieldset,\n",
    "    pclass=SampleParticle,\n",
    "    start=(3000, 3000),\n",
    "    finish=(3000, 46000),\n",
    "    size=5,\n",
    "    time=0,\n",
    ")\n",
    "\n",
    "plt.contourf(fieldset.P.grid.lon, fieldset.P.grid.lat, fieldset.P.data[0, :, :])\n",
    "plt.xlabel(\"Zonal distance [m]\")\n",
    "plt.ylabel(\"Meridional distance [m]\")\n",
    "plt.colorbar()\n",
    "\n",
    "plt.plot(pset.lon, pset.lat, \"ko\")\n",
    "plt.show()"
   ]
  },
  {
   "cell_type": "code",
   "execution_count": 34,
   "metadata": {},
   "outputs": [],
   "source": [
    "def SampleP(particle, fieldset, time):\n",
    "    \"\"\"Custom function that samples fieldset.P at particle location\"\"\"\n",
    "    particle.p = fieldset.P[time, particle.depth, particle.lat, particle.lon]"
   ]
  },
  {
   "cell_type": "code",
   "execution_count": null,
   "metadata": {},
   "outputs": [],
   "source": [
    "output_file = pset.ParticleFile(\n",
    "    name=\"PeninsulaPressure.zarr\", outputdt=timedelta(hours=1)\n",
    ")\n",
    "pset.execute(\n",
    "    [parcels.AdvectionRK4, SampleP],  # list of kernels to be executed\n",
    "    runtime=timedelta(hours=20),\n",
    "    dt=timedelta(minutes=5),\n",
    "    output_file=output_file,\n",
    ")"
   ]
  },
  {
   "cell_type": "code",
   "execution_count": null,
   "metadata": {},
   "outputs": [],
   "source": [
    "ds = xr.open_zarr(\"PeninsulaPressure.zarr\")\n",
    "\n",
    "plt.contourf(fieldset.P.grid.lon, fieldset.P.grid.lat, fieldset.P.data[0, :, :])\n",
    "plt.xlabel(\"Zonal distance [m]\")\n",
    "plt.ylabel(\"Meridional distance [m]\")\n",
    "plt.colorbar()\n",
    "\n",
    "plt.scatter(ds.lon, ds.lat, c=ds.p, s=30, cmap=\"viridis\", edgecolors=\"k\")\n",
    "plt.show()"
   ]
  },
  {
   "cell_type": "markdown",
   "metadata": {},
   "source": [
    "## Calculating distance travelled"
   ]
  },
  {
   "cell_type": "code",
   "execution_count": 37,
   "metadata": {},
   "outputs": [],
   "source": [
    "# to_write to write in output file\n",
    "\n",
    "extra_vars = [\n",
    "    parcels.Variable(\"distance\", initial=0.0, dtype=np.float32),\n",
    "    parcels.Variable(\n",
    "        \"prev_lon\", dtype=np.float32, to_write=False, initial=attrgetter(\"lon\")\n",
    "    ),\n",
    "    parcels.Variable(\n",
    "        \"prev_lat\", dtype=np.float32, to_write=False, initial=attrgetter(\"lat\")\n",
    "    ),\n",
    "]\n",
    "\n",
    "DistParticle = parcels.JITParticle.add_variables(extra_vars)"
   ]
  },
  {
   "cell_type": "code",
   "execution_count": 38,
   "metadata": {},
   "outputs": [],
   "source": [
    "def TotalDistance(particle, fieldset, time):\n",
    "    \"\"\"Calculate the distance in latitudinal direction\n",
    "    (using 1.11e2 kilometer per degree latitude)\"\"\"\n",
    "    lat_dist = (particle.lat - particle.prev_lat) * 1.11e2\n",
    "    lon_dist = (\n",
    "        (particle.lon - particle.prev_lon)\n",
    "        * 1.11e2\n",
    "        * math.cos(particle.lat * math.pi / 180)\n",
    "    )\n",
    "    # Calculate the total Euclidean distance travelled by the particle\n",
    "    particle.distance += math.sqrt(math.pow(lon_dist, 2) + math.pow(lat_dist, 2))\n",
    "\n",
    "    # Set the stored values for next iteration\n",
    "    particle.prev_lon = particle.lon\n",
    "    particle.prev_lat = particle.lat"
   ]
  },
  {
   "cell_type": "code",
   "execution_count": 39,
   "metadata": {},
   "outputs": [],
   "source": [
    "example_dataset_folder = parcels.download_example_dataset(\"GlobCurrent_example_data\")\n",
    "filenames = {\n",
    "    \"U\": f\"{example_dataset_folder}/20*.nc\",\n",
    "    \"V\": f\"{example_dataset_folder}/20*.nc\",\n",
    "}\n",
    "variables = {\n",
    "    \"U\": \"eastward_eulerian_current_velocity\",\n",
    "    \"V\": \"northward_eulerian_current_velocity\",\n",
    "}\n",
    "dimensions = {\"lat\": \"lat\", \"lon\": \"lon\", \"time\": \"time\"}\n",
    "fieldset = parcels.FieldSet.from_netcdf(filenames, variables, dimensions)\n",
    "pset = parcels.ParticleSet.from_line(\n",
    "    fieldset=fieldset, pclass=DistParticle, size=5, start=(28, -33), finish=(30, -33)\n",
    ")"
   ]
  },
  {
   "cell_type": "code",
   "execution_count": null,
   "metadata": {},
   "outputs": [],
   "source": [
    "pset.execute(\n",
    "    [parcels.AdvectionRK4, TotalDistance],  # list of kernels to be executed\n",
    "    runtime=timedelta(days=6),\n",
    "    dt=timedelta(minutes=5),\n",
    "    output_file=pset.ParticleFile(\n",
    "        name=\"GlobCurrentParticles_Dist.zarr\", outputdt=timedelta(hours=1)\n",
    "    ),\n",
    ")"
   ]
  },
  {
   "cell_type": "code",
   "execution_count": null,
   "metadata": {},
   "outputs": [],
   "source": [
    "print([p.distance for p in pset])"
   ]
  },
  {
   "cell_type": "code",
   "execution_count": null,
   "metadata": {},
   "outputs": [],
   "source": []
  }
 ],
 "metadata": {
  "kernelspec": {
   "display_name": "parcels",
   "language": "python",
   "name": "python3"
  },
  "language_info": {
   "codemirror_mode": {
    "name": "ipython",
    "version": 3
   },
   "file_extension": ".py",
   "mimetype": "text/x-python",
   "name": "python",
   "nbconvert_exporter": "python",
   "pygments_lexer": "ipython3",
   "version": "3.13.1"
  }
 },
 "nbformat": 4,
 "nbformat_minor": 2
}
